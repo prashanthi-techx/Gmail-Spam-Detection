{
 "cells": [
  {
   "cell_type": "code",
   "execution_count": 1,
   "id": "3c4903cb",
   "metadata": {},
   "outputs": [
    {
     "name": "stdout",
     "output_type": "stream",
     "text": [
      "Requirement already satisfied: nltk in c:\\users\\v prasanthi\\anaconda3\\lib\\site-packages (3.6.5)\n",
      "Requirement already satisfied: click in c:\\users\\v prasanthi\\anaconda3\\lib\\site-packages (from nltk) (8.0.3)\n",
      "Requirement already satisfied: joblib in c:\\users\\v prasanthi\\anaconda3\\lib\\site-packages (from nltk) (1.1.0)\n",
      "Requirement already satisfied: regex>=2021.8.3 in c:\\users\\v prasanthi\\anaconda3\\lib\\site-packages (from nltk) (2021.8.3)\n",
      "Requirement already satisfied: tqdm in c:\\users\\v prasanthi\\anaconda3\\lib\\site-packages (from nltk) (4.62.3)\n",
      "Requirement already satisfied: colorama in c:\\users\\v prasanthi\\anaconda3\\lib\\site-packages (from click->nltk) (0.4.4)\n",
      "Note: you may need to restart the kernel to use updated packages.\n"
     ]
    }
   ],
   "source": [
    "pip install nltk"
   ]
  },
  {
   "cell_type": "code",
   "execution_count": 2,
   "id": "3c5f78bb",
   "metadata": {},
   "outputs": [],
   "source": [
    "import nltk"
   ]
  },
  {
   "cell_type": "code",
   "execution_count": 3,
   "id": "c19f63e6",
   "metadata": {},
   "outputs": [
    {
     "name": "stderr",
     "output_type": "stream",
     "text": [
      "[nltk_data] Downloading package wordnet to C:\\Users\\v\n",
      "[nltk_data]     prasanthi\\AppData\\Roaming\\nltk_data...\n",
      "[nltk_data]   Package wordnet is already up-to-date!\n"
     ]
    },
    {
     "data": {
      "text/plain": [
       "True"
      ]
     },
     "execution_count": 3,
     "metadata": {},
     "output_type": "execute_result"
    }
   ],
   "source": [
    "nltk.download(\"wordnet\")"
   ]
  },
  {
   "cell_type": "code",
   "execution_count": 4,
   "id": "e7dc41ae",
   "metadata": {},
   "outputs": [],
   "source": [
    "import pandas as pd"
   ]
  },
  {
   "cell_type": "code",
   "execution_count": 5,
   "id": "082018f5",
   "metadata": {},
   "outputs": [],
   "source": [
    "dt = pd.read_csv(\"SPAM2.csv\", encoding = 'Windows-1252')"
   ]
  },
  {
   "cell_type": "code",
   "execution_count": 6,
   "id": "f0acfc58",
   "metadata": {},
   "outputs": [],
   "source": [
    "import chardet\n",
    "with open(\"SPAM2.csv\",'rb')as rawdata:\n",
    "  result= chardet.detect(rawdata.read(100000))\n",
    "  result "
   ]
  },
  {
   "cell_type": "code",
   "execution_count": 7,
   "id": "bbf25543",
   "metadata": {},
   "outputs": [
    {
     "data": {
      "text/html": [
       "<div>\n",
       "<style scoped>\n",
       "    .dataframe tbody tr th:only-of-type {\n",
       "        vertical-align: middle;\n",
       "    }\n",
       "\n",
       "    .dataframe tbody tr th {\n",
       "        vertical-align: top;\n",
       "    }\n",
       "\n",
       "    .dataframe thead th {\n",
       "        text-align: right;\n",
       "    }\n",
       "</style>\n",
       "<table border=\"1\" class=\"dataframe\">\n",
       "  <thead>\n",
       "    <tr style=\"text-align: right;\">\n",
       "      <th></th>\n",
       "      <th>type</th>\n",
       "      <th>text</th>\n",
       "    </tr>\n",
       "  </thead>\n",
       "  <tbody>\n",
       "    <tr>\n",
       "      <th>0</th>\n",
       "      <td>ham</td>\n",
       "      <td>Go until jurong point, crazy.. Available only ...</td>\n",
       "    </tr>\n",
       "    <tr>\n",
       "      <th>1</th>\n",
       "      <td>ham</td>\n",
       "      <td>Ok lar... Joking wif u oni...</td>\n",
       "    </tr>\n",
       "    <tr>\n",
       "      <th>2</th>\n",
       "      <td>spam</td>\n",
       "      <td>Free entry in 2 a wkly comp to win FA Cup fina...</td>\n",
       "    </tr>\n",
       "    <tr>\n",
       "      <th>3</th>\n",
       "      <td>ham</td>\n",
       "      <td>U dun say so early hor... U c already then say...</td>\n",
       "    </tr>\n",
       "    <tr>\n",
       "      <th>4</th>\n",
       "      <td>ham</td>\n",
       "      <td>Nah I don't think he goes to usf, he lives aro...</td>\n",
       "    </tr>\n",
       "  </tbody>\n",
       "</table>\n",
       "</div>"
      ],
      "text/plain": [
       "   type                                               text\n",
       "0   ham  Go until jurong point, crazy.. Available only ...\n",
       "1   ham                      Ok lar... Joking wif u oni...\n",
       "2  spam  Free entry in 2 a wkly comp to win FA Cup fina...\n",
       "3   ham  U dun say so early hor... U c already then say...\n",
       "4   ham  Nah I don't think he goes to usf, he lives aro..."
      ]
     },
     "execution_count": 7,
     "metadata": {},
     "output_type": "execute_result"
    }
   ],
   "source": [
    "dt.head()"
   ]
  },
  {
   "cell_type": "code",
   "execution_count": 8,
   "id": "784b7a9f",
   "metadata": {},
   "outputs": [],
   "source": [
    "dt['spam'] = dt['type'].map({'spam': 1 , 'ham' : 0}).astype(int)"
   ]
  },
  {
   "cell_type": "code",
   "execution_count": 9,
   "id": "83d79c3d",
   "metadata": {},
   "outputs": [
    {
     "data": {
      "text/html": [
       "<div>\n",
       "<style scoped>\n",
       "    .dataframe tbody tr th:only-of-type {\n",
       "        vertical-align: middle;\n",
       "    }\n",
       "\n",
       "    .dataframe tbody tr th {\n",
       "        vertical-align: top;\n",
       "    }\n",
       "\n",
       "    .dataframe thead th {\n",
       "        text-align: right;\n",
       "    }\n",
       "</style>\n",
       "<table border=\"1\" class=\"dataframe\">\n",
       "  <thead>\n",
       "    <tr style=\"text-align: right;\">\n",
       "      <th></th>\n",
       "      <th>type</th>\n",
       "      <th>text</th>\n",
       "      <th>spam</th>\n",
       "    </tr>\n",
       "  </thead>\n",
       "  <tbody>\n",
       "    <tr>\n",
       "      <th>0</th>\n",
       "      <td>ham</td>\n",
       "      <td>Go until jurong point, crazy.. Available only ...</td>\n",
       "      <td>0</td>\n",
       "    </tr>\n",
       "    <tr>\n",
       "      <th>1</th>\n",
       "      <td>ham</td>\n",
       "      <td>Ok lar... Joking wif u oni...</td>\n",
       "      <td>0</td>\n",
       "    </tr>\n",
       "    <tr>\n",
       "      <th>2</th>\n",
       "      <td>spam</td>\n",
       "      <td>Free entry in 2 a wkly comp to win FA Cup fina...</td>\n",
       "      <td>1</td>\n",
       "    </tr>\n",
       "    <tr>\n",
       "      <th>3</th>\n",
       "      <td>ham</td>\n",
       "      <td>U dun say so early hor... U c already then say...</td>\n",
       "      <td>0</td>\n",
       "    </tr>\n",
       "  </tbody>\n",
       "</table>\n",
       "</div>"
      ],
      "text/plain": [
       "   type                                               text  spam\n",
       "0   ham  Go until jurong point, crazy.. Available only ...     0\n",
       "1   ham                      Ok lar... Joking wif u oni...     0\n",
       "2  spam  Free entry in 2 a wkly comp to win FA Cup fina...     1\n",
       "3   ham  U dun say so early hor... U c already then say...     0"
      ]
     },
     "execution_count": 9,
     "metadata": {},
     "output_type": "execute_result"
    }
   ],
   "source": [
    "dt.head(4)"
   ]
  },
  {
   "cell_type": "code",
   "execution_count": 10,
   "id": "55c185b7",
   "metadata": {},
   "outputs": [
    {
     "name": "stdout",
     "output_type": "stream",
     "text": [
      "NO OF ROWS IN REVIEW COLUMN: 116\n"
     ]
    }
   ],
   "source": [
    "t=len(dt['type'])\n",
    "print(\"NO OF ROWS IN REVIEW COLUMN:\",t)"
   ]
  },
  {
   "cell_type": "code",
   "execution_count": 11,
   "id": "9bab8943",
   "metadata": {},
   "outputs": [
    {
     "data": {
      "text/plain": [
       "\"Free entry in 2 a wkly comp to win FA Cup final tkts 21st May 2005. Text FA to 87121 to receive entry question(std txt rate)T&C's apply 08452810075over18's\""
      ]
     },
     "execution_count": 11,
     "metadata": {},
     "output_type": "execute_result"
    }
   ],
   "source": [
    "dt['text'][2]"
   ]
  },
  {
   "cell_type": "code",
   "execution_count": 12,
   "id": "df120ac8",
   "metadata": {},
   "outputs": [],
   "source": [
    "def tokenizer(text):\n",
    "  return text.split()"
   ]
  },
  {
   "cell_type": "code",
   "execution_count": 13,
   "id": "00267fbf",
   "metadata": {},
   "outputs": [],
   "source": [
    "dt['text'] = dt['text'].apply(tokenizer)"
   ]
  },
  {
   "cell_type": "code",
   "execution_count": 14,
   "id": "df700231",
   "metadata": {},
   "outputs": [
    {
     "data": {
      "text/plain": [
       "['Free',\n",
       " 'entry',\n",
       " 'in',\n",
       " '2',\n",
       " 'a',\n",
       " 'wkly',\n",
       " 'comp',\n",
       " 'to',\n",
       " 'win',\n",
       " 'FA',\n",
       " 'Cup',\n",
       " 'final',\n",
       " 'tkts',\n",
       " '21st',\n",
       " 'May',\n",
       " '2005.',\n",
       " 'Text',\n",
       " 'FA',\n",
       " 'to',\n",
       " '87121',\n",
       " 'to',\n",
       " 'receive',\n",
       " 'entry',\n",
       " 'question(std',\n",
       " 'txt',\n",
       " \"rate)T&C's\",\n",
       " 'apply',\n",
       " \"08452810075over18's\"]"
      ]
     },
     "execution_count": 14,
     "metadata": {},
     "output_type": "execute_result"
    }
   ],
   "source": [
    "dt['text'][2]"
   ]
  },
  {
   "cell_type": "code",
   "execution_count": 15,
   "id": "311744a4",
   "metadata": {},
   "outputs": [],
   "source": [
    "from nltk.stem.snowball import SnowballStemmer\n",
    "porter = SnowballStemmer(\"english\",ignore_stopwords =False)"
   ]
  },
  {
   "cell_type": "code",
   "execution_count": 16,
   "id": "b17134b5",
   "metadata": {},
   "outputs": [],
   "source": [
    "def stem_it(text):\n",
    "  return[porter.stem(word) for word in text]"
   ]
  },
  {
   "cell_type": "code",
   "execution_count": 17,
   "id": "bcd9c5f8",
   "metadata": {},
   "outputs": [],
   "source": [
    "dt['text'] = dt['text'].apply(stem_it)"
   ]
  },
  {
   "cell_type": "code",
   "execution_count": 18,
   "id": "b493a044",
   "metadata": {},
   "outputs": [
    {
     "data": {
      "text/plain": [
       "['free',\n",
       " 'entri',\n",
       " 'in',\n",
       " '2',\n",
       " 'a',\n",
       " 'wkli',\n",
       " 'comp',\n",
       " 'to',\n",
       " 'win',\n",
       " 'fa',\n",
       " 'cup',\n",
       " 'final',\n",
       " 'tkts',\n",
       " '21st',\n",
       " 'may',\n",
       " '2005.',\n",
       " 'text',\n",
       " 'fa',\n",
       " 'to',\n",
       " '87121',\n",
       " 'to',\n",
       " 'receiv',\n",
       " 'entri',\n",
       " 'question(std',\n",
       " 'txt',\n",
       " 'rate)t&c',\n",
       " 'appli',\n",
       " '08452810075over18']"
      ]
     },
     "execution_count": 18,
     "metadata": {},
     "output_type": "execute_result"
    }
   ],
   "source": [
    "dt['text'][2]"
   ]
  },
  {
   "cell_type": "code",
   "execution_count": 19,
   "id": "8450c7c1",
   "metadata": {},
   "outputs": [],
   "source": [
    "from nltk.stem import WordNetLemmatizer\n",
    "lemmatizer = WordNetLemmatizer()"
   ]
  },
  {
   "cell_type": "code",
   "execution_count": 20,
   "id": "c17b7a00",
   "metadata": {},
   "outputs": [],
   "source": [
    "def lemmit_it(text):\n",
    "  return [lemmatizer.lemmatize(word,pos ='a') for word in text]"
   ]
  },
  {
   "cell_type": "code",
   "execution_count": 21,
   "id": "443f6a58",
   "metadata": {},
   "outputs": [],
   "source": [
    "dt['text'] = dt['text'].apply(lemmit_it)"
   ]
  },
  {
   "cell_type": "code",
   "execution_count": 22,
   "id": "51788039",
   "metadata": {},
   "outputs": [
    {
     "data": {
      "text/plain": [
       "['free',\n",
       " 'entri',\n",
       " 'in',\n",
       " '2',\n",
       " 'a',\n",
       " 'wkli',\n",
       " 'comp',\n",
       " 'to',\n",
       " 'win',\n",
       " 'fa',\n",
       " 'cup',\n",
       " 'final',\n",
       " 'tkts',\n",
       " '21st',\n",
       " 'may',\n",
       " '2005.',\n",
       " 'text',\n",
       " 'fa',\n",
       " 'to',\n",
       " '87121',\n",
       " 'to',\n",
       " 'receiv',\n",
       " 'entri',\n",
       " 'question(std',\n",
       " 'txt',\n",
       " 'rate)t&c',\n",
       " 'appli',\n",
       " '08452810075over18']"
      ]
     },
     "execution_count": 22,
     "metadata": {},
     "output_type": "execute_result"
    }
   ],
   "source": [
    "dt['text'][2]"
   ]
  },
  {
   "cell_type": "code",
   "execution_count": 23,
   "id": "059ecec1",
   "metadata": {},
   "outputs": [
    {
     "name": "stderr",
     "output_type": "stream",
     "text": [
      "[nltk_data] Downloading package stopwords to C:\\Users\\v\n",
      "[nltk_data]     prasanthi\\AppData\\Roaming\\nltk_data...\n",
      "[nltk_data]   Package stopwords is already up-to-date!\n"
     ]
    }
   ],
   "source": [
    "nltk.download('stopwords')\n",
    "from nltk.corpus import stopwords\n",
    "\n",
    "stop_words = stopwords.words(\"english\")"
   ]
  },
  {
   "cell_type": "code",
   "execution_count": 24,
   "id": "358e36ba",
   "metadata": {},
   "outputs": [],
   "source": [
    "def stop_it(text):\n",
    "  review = [word for word in text if not word in stop_words]\n",
    "  return review"
   ]
  },
  {
   "cell_type": "code",
   "execution_count": 25,
   "id": "fc718abb",
   "metadata": {},
   "outputs": [],
   "source": [
    "dt['text'] = dt['text'].apply(stop_it)"
   ]
  },
  {
   "cell_type": "code",
   "execution_count": 26,
   "id": "42087f8e",
   "metadata": {},
   "outputs": [
    {
     "data": {
      "text/plain": [
       "['free',\n",
       " 'entri',\n",
       " '2',\n",
       " 'wkli',\n",
       " 'comp',\n",
       " 'win',\n",
       " 'fa',\n",
       " 'cup',\n",
       " 'final',\n",
       " 'tkts',\n",
       " '21st',\n",
       " 'may',\n",
       " '2005.',\n",
       " 'text',\n",
       " 'fa',\n",
       " '87121',\n",
       " 'receiv',\n",
       " 'entri',\n",
       " 'question(std',\n",
       " 'txt',\n",
       " 'rate)t&c',\n",
       " 'appli',\n",
       " '08452810075over18']"
      ]
     },
     "execution_count": 26,
     "metadata": {},
     "output_type": "execute_result"
    }
   ],
   "source": [
    "dt['text'][2]"
   ]
  },
  {
   "cell_type": "code",
   "execution_count": 27,
   "id": "f75f09f2",
   "metadata": {},
   "outputs": [
    {
     "data": {
      "text/html": [
       "<div>\n",
       "<style scoped>\n",
       "    .dataframe tbody tr th:only-of-type {\n",
       "        vertical-align: middle;\n",
       "    }\n",
       "\n",
       "    .dataframe tbody tr th {\n",
       "        vertical-align: top;\n",
       "    }\n",
       "\n",
       "    .dataframe thead th {\n",
       "        text-align: right;\n",
       "    }\n",
       "</style>\n",
       "<table border=\"1\" class=\"dataframe\">\n",
       "  <thead>\n",
       "    <tr style=\"text-align: right;\">\n",
       "      <th></th>\n",
       "      <th>type</th>\n",
       "      <th>text</th>\n",
       "      <th>spam</th>\n",
       "    </tr>\n",
       "  </thead>\n",
       "  <tbody>\n",
       "    <tr>\n",
       "      <th>0</th>\n",
       "      <td>ham</td>\n",
       "      <td>[go, jurong, point,, crazy.., avail, onli, bug...</td>\n",
       "      <td>0</td>\n",
       "    </tr>\n",
       "    <tr>\n",
       "      <th>1</th>\n",
       "      <td>ham</td>\n",
       "      <td>[ok, lar..., joke, wif, u, oni...]</td>\n",
       "      <td>0</td>\n",
       "    </tr>\n",
       "    <tr>\n",
       "      <th>2</th>\n",
       "      <td>spam</td>\n",
       "      <td>[free, entri, 2, wkli, comp, win, fa, cup, fin...</td>\n",
       "      <td>1</td>\n",
       "    </tr>\n",
       "    <tr>\n",
       "      <th>3</th>\n",
       "      <td>ham</td>\n",
       "      <td>[u, dun, say, earli, hor..., u, c, alreadi, sa...</td>\n",
       "      <td>0</td>\n",
       "    </tr>\n",
       "    <tr>\n",
       "      <th>4</th>\n",
       "      <td>ham</td>\n",
       "      <td>[nah, think, goe, usf,, live, around, though]</td>\n",
       "      <td>0</td>\n",
       "    </tr>\n",
       "  </tbody>\n",
       "</table>\n",
       "</div>"
      ],
      "text/plain": [
       "   type                                               text  spam\n",
       "0   ham  [go, jurong, point,, crazy.., avail, onli, bug...     0\n",
       "1   ham                 [ok, lar..., joke, wif, u, oni...]     0\n",
       "2  spam  [free, entri, 2, wkli, comp, win, fa, cup, fin...     1\n",
       "3   ham  [u, dun, say, earli, hor..., u, c, alreadi, sa...     0\n",
       "4   ham      [nah, think, goe, usf,, live, around, though]     0"
      ]
     },
     "execution_count": 27,
     "metadata": {},
     "output_type": "execute_result"
    }
   ],
   "source": [
    "dt.head()"
   ]
  },
  {
   "cell_type": "code",
   "execution_count": 28,
   "id": "bba48404",
   "metadata": {},
   "outputs": [],
   "source": [
    "from sklearn.feature_extraction.text import TfidfVectorizer\n",
    "tfidf=TfidfVectorizer()"
   ]
  },
  {
   "cell_type": "code",
   "execution_count": 37,
   "id": "3d14f7aa",
   "metadata": {},
   "outputs": [],
   "source": [
    "\n",
    "y = dt.spam.values\n",
    "x = tfidf.fit_transform(dt['text'])"
   ]
  },
  {
   "cell_type": "code",
   "execution_count": null,
   "id": "11f366eb",
   "metadata": {},
   "outputs": [],
   "source": [
    "dt.head()"
   ]
  },
  {
   "cell_type": "code",
   "execution_count": 30,
   "id": "6e93b570",
   "metadata": {},
   "outputs": [],
   "source": [
    "dt['text']=  dt['text'].apply(''.join)"
   ]
  },
  {
   "cell_type": "code",
   "execution_count": 31,
   "id": "2521fd25",
   "metadata": {},
   "outputs": [
    {
     "data": {
      "text/html": [
       "<div>\n",
       "<style scoped>\n",
       "    .dataframe tbody tr th:only-of-type {\n",
       "        vertical-align: middle;\n",
       "    }\n",
       "\n",
       "    .dataframe tbody tr th {\n",
       "        vertical-align: top;\n",
       "    }\n",
       "\n",
       "    .dataframe thead th {\n",
       "        text-align: right;\n",
       "    }\n",
       "</style>\n",
       "<table border=\"1\" class=\"dataframe\">\n",
       "  <thead>\n",
       "    <tr style=\"text-align: right;\">\n",
       "      <th></th>\n",
       "      <th>type</th>\n",
       "      <th>text</th>\n",
       "      <th>spam</th>\n",
       "    </tr>\n",
       "  </thead>\n",
       "  <tbody>\n",
       "    <tr>\n",
       "      <th>0</th>\n",
       "      <td>ham</td>\n",
       "      <td>gojurongpoint,crazy..availonlibugingreatworldl...</td>\n",
       "      <td>0</td>\n",
       "    </tr>\n",
       "    <tr>\n",
       "      <th>1</th>\n",
       "      <td>ham</td>\n",
       "      <td>oklar...jokewifuoni...</td>\n",
       "      <td>0</td>\n",
       "    </tr>\n",
       "    <tr>\n",
       "      <th>2</th>\n",
       "      <td>spam</td>\n",
       "      <td>freeentri2wklicompwinfacupfinaltkts21stmay2005...</td>\n",
       "      <td>1</td>\n",
       "    </tr>\n",
       "    <tr>\n",
       "      <th>3</th>\n",
       "      <td>ham</td>\n",
       "      <td>udunsayearlihor...ucalreadisay...</td>\n",
       "      <td>0</td>\n",
       "    </tr>\n",
       "    <tr>\n",
       "      <th>4</th>\n",
       "      <td>ham</td>\n",
       "      <td>nahthinkgoeusf,livearoundthough</td>\n",
       "      <td>0</td>\n",
       "    </tr>\n",
       "  </tbody>\n",
       "</table>\n",
       "</div>"
      ],
      "text/plain": [
       "   type                                               text  spam\n",
       "0   ham  gojurongpoint,crazy..availonlibugingreatworldl...     0\n",
       "1   ham                             oklar...jokewifuoni...     0\n",
       "2  spam  freeentri2wklicompwinfacupfinaltkts21stmay2005...     1\n",
       "3   ham                  udunsayearlihor...ucalreadisay...     0\n",
       "4   ham                    nahthinkgoeusf,livearoundthough     0"
      ]
     },
     "execution_count": 31,
     "metadata": {},
     "output_type": "execute_result"
    }
   ],
   "source": [
    "dt.head()"
   ]
  },
  {
   "cell_type": "code",
   "execution_count": 32,
   "id": "d1244e20",
   "metadata": {},
   "outputs": [],
   "source": [
    "from sklearn.feature_extraction.text import TfidfVectorizer\n",
    "tfidf=TfidfVectorizer()\n",
    "y=dt.spam.values\n",
    "x=tfidf.fit_transform(dt['text'])"
   ]
  },
  {
   "cell_type": "code",
   "execution_count": 33,
   "id": "2d804856",
   "metadata": {},
   "outputs": [
    {
     "data": {
      "text/plain": [
       "<116x367 sparse matrix of type '<class 'numpy.float64'>'\n",
       "\twith 383 stored elements in Compressed Sparse Row format>"
      ]
     },
     "execution_count": 33,
     "metadata": {},
     "output_type": "execute_result"
    }
   ],
   "source": [
    "x"
   ]
  },
  {
   "cell_type": "code",
   "execution_count": 34,
   "id": "36c94da4",
   "metadata": {},
   "outputs": [],
   "source": [
    "from sklearn.model_selection import train_test_split\n",
    "x_train,x_text ,y_train,y_text= train_test_split(x,y,random_state=1,test_size=0.2,shuffle=False)"
   ]
  },
  {
   "cell_type": "code",
   "execution_count": 35,
   "id": "44946940",
   "metadata": {},
   "outputs": [],
   "source": [
    "from sklearn.linear_model import LogisticRegression\n",
    "clf=LogisticRegression()\n",
    "clf.fit(x_train,y_train)\n",
    "y_pred=clf.predict(x_text)"
   ]
  },
  {
   "cell_type": "code",
   "execution_count": 36,
   "id": "53ddf3cc",
   "metadata": {},
   "outputs": [
    {
     "name": "stdout",
     "output_type": "stream",
     "text": [
      "Accuracy : 87.5\n"
     ]
    }
   ],
   "source": [
    "from sklearn.metrics import accuracy_score\n",
    "acc_log = accuracy_score(y_pred,y_text)*100\n",
    "print(\"Accuracy :\",acc_log)"
   ]
  },
  {
   "cell_type": "code",
   "execution_count": null,
   "id": "f3535d3c",
   "metadata": {},
   "outputs": [],
   "source": []
  },
  {
   "cell_type": "code",
   "execution_count": null,
   "id": "40d15cdd",
   "metadata": {},
   "outputs": [],
   "source": []
  },
  {
   "cell_type": "code",
   "execution_count": null,
   "id": "b910f56b",
   "metadata": {},
   "outputs": [],
   "source": []
  }
 ],
 "metadata": {
  "kernelspec": {
   "display_name": "Python 3 (ipykernel)",
   "language": "python",
   "name": "python3"
  },
  "language_info": {
   "codemirror_mode": {
    "name": "ipython",
    "version": 3
   },
   "file_extension": ".py",
   "mimetype": "text/x-python",
   "name": "python",
   "nbconvert_exporter": "python",
   "pygments_lexer": "ipython3",
   "version": "3.9.7"
  }
 },
 "nbformat": 4,
 "nbformat_minor": 5
}
